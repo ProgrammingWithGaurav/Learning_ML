{
 "cells": [
  {
   "cell_type": "code",
   "execution_count": 35,
   "metadata": {},
   "outputs": [],
   "source": [
    "# create a tweet covid-19 classifier using fasttext"
   ]
  },
  {
   "cell_type": "code",
   "execution_count": 36,
   "metadata": {},
   "outputs": [],
   "source": [
    "# import libraries\n",
    "import fasttext\n",
    "import pandas as pd\n",
    "import numpy as np\n",
    "import re"
   ]
  },
  {
   "cell_type": "code",
   "execution_count": 37,
   "metadata": {},
   "outputs": [],
   "source": [
    "# load the data\n",
    "data = pd.read_csv('../Learning_ML/NLP/datasets/Corona_NLP_train.csv', encoding='latin1')"
   ]
  },
  {
   "cell_type": "code",
   "execution_count": 38,
   "metadata": {},
   "outputs": [
    {
     "data": {
      "text/plain": [
       "(41157, 6)"
      ]
     },
     "execution_count": 38,
     "metadata": {},
     "output_type": "execute_result"
    }
   ],
   "source": [
    "data.shape"
   ]
  },
  {
   "cell_type": "code",
   "execution_count": 39,
   "metadata": {},
   "outputs": [
    {
     "data": {
      "text/html": [
       "<div>\n",
       "<style scoped>\n",
       "    .dataframe tbody tr th:only-of-type {\n",
       "        vertical-align: middle;\n",
       "    }\n",
       "\n",
       "    .dataframe tbody tr th {\n",
       "        vertical-align: top;\n",
       "    }\n",
       "\n",
       "    .dataframe thead th {\n",
       "        text-align: right;\n",
       "    }\n",
       "</style>\n",
       "<table border=\"1\" class=\"dataframe\">\n",
       "  <thead>\n",
       "    <tr style=\"text-align: right;\">\n",
       "      <th></th>\n",
       "      <th>UserName</th>\n",
       "      <th>ScreenName</th>\n",
       "      <th>Location</th>\n",
       "      <th>TweetAt</th>\n",
       "      <th>OriginalTweet</th>\n",
       "      <th>Sentiment</th>\n",
       "    </tr>\n",
       "  </thead>\n",
       "  <tbody>\n",
       "    <tr>\n",
       "      <th>0</th>\n",
       "      <td>3799</td>\n",
       "      <td>48751</td>\n",
       "      <td>London</td>\n",
       "      <td>16-03-2020</td>\n",
       "      <td>@MeNyrbie @Phil_Gahan @Chrisitv https://t.co/i...</td>\n",
       "      <td>Neutral</td>\n",
       "    </tr>\n",
       "    <tr>\n",
       "      <th>1</th>\n",
       "      <td>3800</td>\n",
       "      <td>48752</td>\n",
       "      <td>UK</td>\n",
       "      <td>16-03-2020</td>\n",
       "      <td>advice Talk to your neighbours family to excha...</td>\n",
       "      <td>Positive</td>\n",
       "    </tr>\n",
       "    <tr>\n",
       "      <th>2</th>\n",
       "      <td>3801</td>\n",
       "      <td>48753</td>\n",
       "      <td>Vagabonds</td>\n",
       "      <td>16-03-2020</td>\n",
       "      <td>Coronavirus Australia: Woolworths to give elde...</td>\n",
       "      <td>Positive</td>\n",
       "    </tr>\n",
       "    <tr>\n",
       "      <th>3</th>\n",
       "      <td>3802</td>\n",
       "      <td>48754</td>\n",
       "      <td>NaN</td>\n",
       "      <td>16-03-2020</td>\n",
       "      <td>My food stock is not the only one which is emp...</td>\n",
       "      <td>Positive</td>\n",
       "    </tr>\n",
       "    <tr>\n",
       "      <th>4</th>\n",
       "      <td>3803</td>\n",
       "      <td>48755</td>\n",
       "      <td>NaN</td>\n",
       "      <td>16-03-2020</td>\n",
       "      <td>Me, ready to go at supermarket during the #COV...</td>\n",
       "      <td>Extremely Negative</td>\n",
       "    </tr>\n",
       "  </tbody>\n",
       "</table>\n",
       "</div>"
      ],
      "text/plain": [
       "   UserName  ScreenName   Location     TweetAt  \\\n",
       "0      3799       48751     London  16-03-2020   \n",
       "1      3800       48752         UK  16-03-2020   \n",
       "2      3801       48753  Vagabonds  16-03-2020   \n",
       "3      3802       48754        NaN  16-03-2020   \n",
       "4      3803       48755        NaN  16-03-2020   \n",
       "\n",
       "                                       OriginalTweet           Sentiment  \n",
       "0  @MeNyrbie @Phil_Gahan @Chrisitv https://t.co/i...             Neutral  \n",
       "1  advice Talk to your neighbours family to excha...            Positive  \n",
       "2  Coronavirus Australia: Woolworths to give elde...            Positive  \n",
       "3  My food stock is not the only one which is emp...            Positive  \n",
       "4  Me, ready to go at supermarket during the #COV...  Extremely Negative  "
      ]
     },
     "execution_count": 39,
     "metadata": {},
     "output_type": "execute_result"
    }
   ],
   "source": [
    "data.head()"
   ]
  },
  {
   "cell_type": "code",
   "execution_count": 40,
   "metadata": {},
   "outputs": [
    {
     "data": {
      "text/plain": [
       "Sentiment\n",
       "Positive              11422\n",
       "Negative               9917\n",
       "Neutral                7713\n",
       "Extremely Positive     6624\n",
       "Extremely Negative     5481\n",
       "Name: count, dtype: int64"
      ]
     },
     "execution_count": 40,
     "metadata": {},
     "output_type": "execute_result"
    }
   ],
   "source": [
    "data['Sentiment'].value_counts()"
   ]
  },
  {
   "cell_type": "code",
   "execution_count": 41,
   "metadata": {},
   "outputs": [],
   "source": [
    "df_to_use = data.sample(5000)"
   ]
  },
  {
   "cell_type": "code",
   "execution_count": 42,
   "metadata": {},
   "outputs": [
    {
     "data": {
      "text/plain": [
       "Sentiment\n",
       "Positive              1379\n",
       "Negative              1262\n",
       "Neutral                940\n",
       "Extremely Positive     813\n",
       "Extremely Negative     606\n",
       "Name: count, dtype: int64"
      ]
     },
     "execution_count": 42,
     "metadata": {},
     "output_type": "execute_result"
    }
   ],
   "source": [
    "df_to_use['Sentiment'].value_counts()"
   ]
  },
  {
   "cell_type": "code",
   "execution_count": 43,
   "metadata": {},
   "outputs": [],
   "source": [
    "# replace the sentiment values labels eg -> Extremely Positive -> __label__extremely_positive\n",
    "df_to_use.replace({'Sentiment': {'Extremely Positive': 'Extremely_Positive', 'Extremely Negative': 'Extremely_Negative'}}, inplace=True)\n"
   ]
  },
  {
   "cell_type": "code",
   "execution_count": 44,
   "metadata": {},
   "outputs": [
    {
     "data": {
      "text/plain": [
       "Sentiment\n",
       "Positive              1379\n",
       "Negative              1262\n",
       "Neutral                940\n",
       "Extremely_Positive     813\n",
       "Extremely_Negative     606\n",
       "Name: count, dtype: int64"
      ]
     },
     "execution_count": 44,
     "metadata": {},
     "output_type": "execute_result"
    }
   ],
   "source": [
    "df_to_use['Sentiment'].value_counts()"
   ]
  },
  {
   "cell_type": "code",
   "execution_count": 45,
   "metadata": {},
   "outputs": [
    {
     "data": {
      "text/html": [
       "<div>\n",
       "<style scoped>\n",
       "    .dataframe tbody tr th:only-of-type {\n",
       "        vertical-align: middle;\n",
       "    }\n",
       "\n",
       "    .dataframe tbody tr th {\n",
       "        vertical-align: top;\n",
       "    }\n",
       "\n",
       "    .dataframe thead th {\n",
       "        text-align: right;\n",
       "    }\n",
       "</style>\n",
       "<table border=\"1\" class=\"dataframe\">\n",
       "  <thead>\n",
       "    <tr style=\"text-align: right;\">\n",
       "      <th></th>\n",
       "      <th>UserName</th>\n",
       "      <th>ScreenName</th>\n",
       "      <th>Location</th>\n",
       "      <th>TweetAt</th>\n",
       "      <th>OriginalTweet</th>\n",
       "      <th>Sentiment</th>\n",
       "    </tr>\n",
       "  </thead>\n",
       "  <tbody>\n",
       "    <tr>\n",
       "      <th>13520</th>\n",
       "      <td>17319</td>\n",
       "      <td>62271</td>\n",
       "      <td>Puerto Rico, USA</td>\n",
       "      <td>21-03-2020</td>\n",
       "      <td>How to Protect Yourself Against #Coronavirus W...</td>\n",
       "      <td>Positive</td>\n",
       "    </tr>\n",
       "    <tr>\n",
       "      <th>14031</th>\n",
       "      <td>17830</td>\n",
       "      <td>62782</td>\n",
       "      <td>Plymouth</td>\n",
       "      <td>21-03-2020</td>\n",
       "      <td>Well done to the if you ve seen any goods at i...</td>\n",
       "      <td>Extremely_Positive</td>\n",
       "    </tr>\n",
       "    <tr>\n",
       "      <th>20672</th>\n",
       "      <td>24471</td>\n",
       "      <td>69423</td>\n",
       "      <td>Canada</td>\n",
       "      <td>25-03-2020</td>\n",
       "      <td>koka   Thank you to everyone who is working du...</td>\n",
       "      <td>Positive</td>\n",
       "    </tr>\n",
       "    <tr>\n",
       "      <th>24264</th>\n",
       "      <td>28063</td>\n",
       "      <td>73015</td>\n",
       "      <td>Bath, England &amp; Westminster, CO</td>\n",
       "      <td>26-03-2020</td>\n",
       "      <td>The price of some Spanish vegetables has risen...</td>\n",
       "      <td>Negative</td>\n",
       "    </tr>\n",
       "    <tr>\n",
       "      <th>25164</th>\n",
       "      <td>28963</td>\n",
       "      <td>73915</td>\n",
       "      <td>NaN</td>\n",
       "      <td>30-03-2020</td>\n",
       "      <td>Could Supermarket Runs get worse? #coronavirus...</td>\n",
       "      <td>Extremely_Negative</td>\n",
       "    </tr>\n",
       "  </tbody>\n",
       "</table>\n",
       "</div>"
      ],
      "text/plain": [
       "       UserName  ScreenName                         Location     TweetAt  \\\n",
       "13520     17319       62271                 Puerto Rico, USA  21-03-2020   \n",
       "14031     17830       62782                         Plymouth  21-03-2020   \n",
       "20672     24471       69423                           Canada  25-03-2020   \n",
       "24264     28063       73015  Bath, England & Westminster, CO  26-03-2020   \n",
       "25164     28963       73915                              NaN  30-03-2020   \n",
       "\n",
       "                                           OriginalTweet           Sentiment  \n",
       "13520  How to Protect Yourself Against #Coronavirus W...            Positive  \n",
       "14031  Well done to the if you ve seen any goods at i...  Extremely_Positive  \n",
       "20672  koka   Thank you to everyone who is working du...            Positive  \n",
       "24264  The price of some Spanish vegetables has risen...            Negative  \n",
       "25164  Could Supermarket Runs get worse? #coronavirus...  Extremely_Negative  "
      ]
     },
     "execution_count": 45,
     "metadata": {},
     "output_type": "execute_result"
    }
   ],
   "source": [
    "df_to_use.head()"
   ]
  },
  {
   "cell_type": "code",
   "execution_count": 46,
   "metadata": {},
   "outputs": [],
   "source": [
    "# replace the sentiment values labels eg -> Extremely Positive -> __label__extremely_positive\n",
    "df_to_use['Sentiment'] = '__label__' + df_to_use['Sentiment'].str.lower()\n",
    "# make lowercas"
   ]
  },
  {
   "cell_type": "code",
   "execution_count": 47,
   "metadata": {},
   "outputs": [
    {
     "data": {
      "text/html": [
       "<div>\n",
       "<style scoped>\n",
       "    .dataframe tbody tr th:only-of-type {\n",
       "        vertical-align: middle;\n",
       "    }\n",
       "\n",
       "    .dataframe tbody tr th {\n",
       "        vertical-align: top;\n",
       "    }\n",
       "\n",
       "    .dataframe thead th {\n",
       "        text-align: right;\n",
       "    }\n",
       "</style>\n",
       "<table border=\"1\" class=\"dataframe\">\n",
       "  <thead>\n",
       "    <tr style=\"text-align: right;\">\n",
       "      <th></th>\n",
       "      <th>UserName</th>\n",
       "      <th>ScreenName</th>\n",
       "      <th>Location</th>\n",
       "      <th>TweetAt</th>\n",
       "      <th>OriginalTweet</th>\n",
       "      <th>Sentiment</th>\n",
       "    </tr>\n",
       "  </thead>\n",
       "  <tbody>\n",
       "    <tr>\n",
       "      <th>13520</th>\n",
       "      <td>17319</td>\n",
       "      <td>62271</td>\n",
       "      <td>Puerto Rico, USA</td>\n",
       "      <td>21-03-2020</td>\n",
       "      <td>How to Protect Yourself Against #Coronavirus W...</td>\n",
       "      <td>__label__positive</td>\n",
       "    </tr>\n",
       "    <tr>\n",
       "      <th>14031</th>\n",
       "      <td>17830</td>\n",
       "      <td>62782</td>\n",
       "      <td>Plymouth</td>\n",
       "      <td>21-03-2020</td>\n",
       "      <td>Well done to the if you ve seen any goods at i...</td>\n",
       "      <td>__label__extremely_positive</td>\n",
       "    </tr>\n",
       "    <tr>\n",
       "      <th>20672</th>\n",
       "      <td>24471</td>\n",
       "      <td>69423</td>\n",
       "      <td>Canada</td>\n",
       "      <td>25-03-2020</td>\n",
       "      <td>koka   Thank you to everyone who is working du...</td>\n",
       "      <td>__label__positive</td>\n",
       "    </tr>\n",
       "    <tr>\n",
       "      <th>24264</th>\n",
       "      <td>28063</td>\n",
       "      <td>73015</td>\n",
       "      <td>Bath, England &amp; Westminster, CO</td>\n",
       "      <td>26-03-2020</td>\n",
       "      <td>The price of some Spanish vegetables has risen...</td>\n",
       "      <td>__label__negative</td>\n",
       "    </tr>\n",
       "    <tr>\n",
       "      <th>25164</th>\n",
       "      <td>28963</td>\n",
       "      <td>73915</td>\n",
       "      <td>NaN</td>\n",
       "      <td>30-03-2020</td>\n",
       "      <td>Could Supermarket Runs get worse? #coronavirus...</td>\n",
       "      <td>__label__extremely_negative</td>\n",
       "    </tr>\n",
       "  </tbody>\n",
       "</table>\n",
       "</div>"
      ],
      "text/plain": [
       "       UserName  ScreenName                         Location     TweetAt  \\\n",
       "13520     17319       62271                 Puerto Rico, USA  21-03-2020   \n",
       "14031     17830       62782                         Plymouth  21-03-2020   \n",
       "20672     24471       69423                           Canada  25-03-2020   \n",
       "24264     28063       73015  Bath, England & Westminster, CO  26-03-2020   \n",
       "25164     28963       73915                              NaN  30-03-2020   \n",
       "\n",
       "                                           OriginalTweet  \\\n",
       "13520  How to Protect Yourself Against #Coronavirus W...   \n",
       "14031  Well done to the if you ve seen any goods at i...   \n",
       "20672  koka   Thank you to everyone who is working du...   \n",
       "24264  The price of some Spanish vegetables has risen...   \n",
       "25164  Could Supermarket Runs get worse? #coronavirus...   \n",
       "\n",
       "                         Sentiment  \n",
       "13520            __label__positive  \n",
       "14031  __label__extremely_positive  \n",
       "20672            __label__positive  \n",
       "24264            __label__negative  \n",
       "25164  __label__extremely_negative  "
      ]
     },
     "execution_count": 47,
     "metadata": {},
     "output_type": "execute_result"
    }
   ],
   "source": [
    "df_to_use.head()"
   ]
  },
  {
   "cell_type": "code",
   "execution_count": 50,
   "metadata": {},
   "outputs": [],
   "source": [
    "import spacy\n",
    "\n",
    "nlp = spacy.load('en_core_web_sm')\n",
    "def preprocess_text(text):\n",
    "    text = text.lower()\n",
    "    # remove non-alphabetic characters\n",
    "    text = re.sub(r'[^a-zA-A]', ' ', text)\n",
    "    # remove whitespaces\n",
    "    text = re.sub(r' +', ' ', text)\n",
    "    # remove stop words\n",
    "    doc = nlp(text)\n",
    "    doc = ' '.join([token.text for token in doc if not token.is_stop])\n",
    "    return doc.strip()"
   ]
  },
  {
   "cell_type": "code",
   "execution_count": 53,
   "metadata": {},
   "outputs": [
    {
     "data": {
      "text/plain": [
       "'wait visit zoo fun'"
      ]
     },
     "execution_count": 53,
     "metadata": {},
     "output_type": "execute_result"
    }
   ],
   "source": [
    "preprocess_text(\"I can not wait to visit the zoo! #fun 232\")"
   ]
  },
  {
   "cell_type": "code",
   "execution_count": 54,
   "metadata": {},
   "outputs": [],
   "source": [
    "df_to_use['tweet'] = df_to_use['Sentiment'] + ' ' + df_to_use['OriginalTweet'].apply(preprocess_text)"
   ]
  },
  {
   "cell_type": "code",
   "execution_count": 55,
   "metadata": {},
   "outputs": [
    {
     "data": {
      "text/html": [
       "<div>\n",
       "<style scoped>\n",
       "    .dataframe tbody tr th:only-of-type {\n",
       "        vertical-align: middle;\n",
       "    }\n",
       "\n",
       "    .dataframe tbody tr th {\n",
       "        vertical-align: top;\n",
       "    }\n",
       "\n",
       "    .dataframe thead th {\n",
       "        text-align: right;\n",
       "    }\n",
       "</style>\n",
       "<table border=\"1\" class=\"dataframe\">\n",
       "  <thead>\n",
       "    <tr style=\"text-align: right;\">\n",
       "      <th></th>\n",
       "      <th>UserName</th>\n",
       "      <th>ScreenName</th>\n",
       "      <th>Location</th>\n",
       "      <th>TweetAt</th>\n",
       "      <th>OriginalTweet</th>\n",
       "      <th>Sentiment</th>\n",
       "      <th>tweet</th>\n",
       "    </tr>\n",
       "  </thead>\n",
       "  <tbody>\n",
       "    <tr>\n",
       "      <th>13520</th>\n",
       "      <td>17319</td>\n",
       "      <td>62271</td>\n",
       "      <td>Puerto Rico, USA</td>\n",
       "      <td>21-03-2020</td>\n",
       "      <td>How to Protect Yourself Against #Coronavirus W...</td>\n",
       "      <td>__label__positive</td>\n",
       "      <td>__label__positive protect coronavirus pumping ...</td>\n",
       "    </tr>\n",
       "    <tr>\n",
       "      <th>14031</th>\n",
       "      <td>17830</td>\n",
       "      <td>62782</td>\n",
       "      <td>Plymouth</td>\n",
       "      <td>21-03-2020</td>\n",
       "      <td>Well done to the if you ve seen any goods at i...</td>\n",
       "      <td>__label__extremely_positive</td>\n",
       "      <td>__label__extremely_positive ve seen goods infl...</td>\n",
       "    </tr>\n",
       "    <tr>\n",
       "      <th>20672</th>\n",
       "      <td>24471</td>\n",
       "      <td>69423</td>\n",
       "      <td>Canada</td>\n",
       "      <td>25-03-2020</td>\n",
       "      <td>koka   Thank you to everyone who is working du...</td>\n",
       "      <td>__label__positive</td>\n",
       "      <td>__label__positive koka thank working scary pan...</td>\n",
       "    </tr>\n",
       "    <tr>\n",
       "      <th>24264</th>\n",
       "      <td>28063</td>\n",
       "      <td>73015</td>\n",
       "      <td>Bath, England &amp; Westminster, CO</td>\n",
       "      <td>26-03-2020</td>\n",
       "      <td>The price of some Spanish vegetables has risen...</td>\n",
       "      <td>__label__negative</td>\n",
       "      <td>__label__negative price spanish vegetables ris...</td>\n",
       "    </tr>\n",
       "    <tr>\n",
       "      <th>25164</th>\n",
       "      <td>28963</td>\n",
       "      <td>73915</td>\n",
       "      <td>NaN</td>\n",
       "      <td>30-03-2020</td>\n",
       "      <td>Could Supermarket Runs get worse? #coronavirus...</td>\n",
       "      <td>__label__extremely_negative</td>\n",
       "      <td>__label__extremely_negative supermarket runs w...</td>\n",
       "    </tr>\n",
       "  </tbody>\n",
       "</table>\n",
       "</div>"
      ],
      "text/plain": [
       "       UserName  ScreenName                         Location     TweetAt  \\\n",
       "13520     17319       62271                 Puerto Rico, USA  21-03-2020   \n",
       "14031     17830       62782                         Plymouth  21-03-2020   \n",
       "20672     24471       69423                           Canada  25-03-2020   \n",
       "24264     28063       73015  Bath, England & Westminster, CO  26-03-2020   \n",
       "25164     28963       73915                              NaN  30-03-2020   \n",
       "\n",
       "                                           OriginalTweet  \\\n",
       "13520  How to Protect Yourself Against #Coronavirus W...   \n",
       "14031  Well done to the if you ve seen any goods at i...   \n",
       "20672  koka   Thank you to everyone who is working du...   \n",
       "24264  The price of some Spanish vegetables has risen...   \n",
       "25164  Could Supermarket Runs get worse? #coronavirus...   \n",
       "\n",
       "                         Sentiment  \\\n",
       "13520            __label__positive   \n",
       "14031  __label__extremely_positive   \n",
       "20672            __label__positive   \n",
       "24264            __label__negative   \n",
       "25164  __label__extremely_negative   \n",
       "\n",
       "                                                   tweet  \n",
       "13520  __label__positive protect coronavirus pumping ...  \n",
       "14031  __label__extremely_positive ve seen goods infl...  \n",
       "20672  __label__positive koka thank working scary pan...  \n",
       "24264  __label__negative price spanish vegetables ris...  \n",
       "25164  __label__extremely_negative supermarket runs w...  "
      ]
     },
     "execution_count": 55,
     "metadata": {},
     "output_type": "execute_result"
    }
   ],
   "source": [
    "df_to_use.head()"
   ]
  },
  {
   "cell_type": "code",
   "execution_count": 56,
   "metadata": {},
   "outputs": [],
   "source": [
    "# split into train and test\n",
    "from sklearn.model_selection import train_test_split\n",
    "\n",
    "train, test = train_test_split(df_to_use, test_size=0.2, random_state=42)"
   ]
  },
  {
   "cell_type": "code",
   "execution_count": 57,
   "metadata": {},
   "outputs": [
    {
     "data": {
      "text/plain": [
       "(4000, 7)"
      ]
     },
     "execution_count": 57,
     "metadata": {},
     "output_type": "execute_result"
    }
   ],
   "source": [
    "train.shape"
   ]
  },
  {
   "cell_type": "code",
   "execution_count": 58,
   "metadata": {},
   "outputs": [
    {
     "data": {
      "text/plain": [
       "(1000, 7)"
      ]
     },
     "execution_count": 58,
     "metadata": {},
     "output_type": "execute_result"
    }
   ],
   "source": [
    "test.shape"
   ]
  },
  {
   "cell_type": "code",
   "execution_count": 59,
   "metadata": {},
   "outputs": [],
   "source": [
    "# save the train and test data\n",
    "train.to_csv('train.txt', index=False, header=False, columns=['tweet'])\n",
    "test.to_csv('test.txt', index=False, header=False, columns=['tweet'])"
   ]
  },
  {
   "cell_type": "code",
   "execution_count": 69,
   "metadata": {},
   "outputs": [
    {
     "name": "stderr",
     "output_type": "stream",
     "text": [
      "Read 0M words\n",
      "Number of words:  16436\n",
      "Number of labels: 5\n",
      "Progress: 100.0% words/sec/thread: 2309307 lr:  0.000000 avg.loss:  0.123681 ETA:   0h 0m 0s\n"
     ]
    }
   ],
   "source": [
    "# train the model\n",
    "model = fasttext.train_supervised(input='train.txt', lr=0.02, epoch=1000, wordNgrams=2, verbose=2, minCount=1, loss='hs')"
   ]
  },
  {
   "cell_type": "code",
   "execution_count": 70,
   "metadata": {},
   "outputs": [
    {
     "data": {
      "text/plain": [
       "(1000, 0.432, 0.432)"
      ]
     },
     "execution_count": 70,
     "metadata": {},
     "output_type": "execute_result"
    }
   ],
   "source": [
    "# test the model\n",
    "model.test('test.txt') # -> (number of samples, precision, recall)\n",
    "# accuracy"
   ]
  },
  {
   "cell_type": "code",
   "execution_count": 71,
   "metadata": {},
   "outputs": [],
   "source": [
    "# save the model\n",
    "model.save_model('model.bin')"
   ]
  },
  {
   "cell_type": "code",
   "execution_count": 85,
   "metadata": {},
   "outputs": [
    {
     "name": "stderr",
     "output_type": "stream",
     "text": [
      "Warning : `load_model` does not return WordVectorModel or SupervisedModel any more, but a `FastText` object which is very similar.\n"
     ]
    }
   ],
   "source": [
    "# load the model\n",
    "model = fasttext.load_model('model.bin')"
   ]
  },
  {
   "cell_type": "code",
   "execution_count": 86,
   "metadata": {},
   "outputs": [
    {
     "data": {
      "text/plain": [
       "(('__label__negative',), array([0.70393723]))"
      ]
     },
     "execution_count": 86,
     "metadata": {},
     "output_type": "execute_result"
    }
   ],
   "source": [
    "text = preprocess_text('The covid-19 pandemic has affected the world in many ways, it has caused a lot of deaths and economic crisis. We need to take it seriously. #covid19')\n",
    "\n",
    "model.predict(text)"
   ]
  },
  {
   "cell_type": "code",
   "execution_count": 87,
   "metadata": {},
   "outputs": [
    {
     "data": {
      "text/plain": [
       "(('__label__extremely_positive',), array([0.57035691]))"
      ]
     },
     "execution_count": 87,
     "metadata": {},
     "output_type": "execute_result"
    }
   ],
   "source": [
    "\n",
    "text = preprocess_text('I am happy that the covid-19 pandemic is over. I can now go out and have fun with my friends. #covid19')\n",
    "\n",
    "model.predict(text)"
   ]
  },
  {
   "cell_type": "code",
   "execution_count": 88,
   "metadata": {},
   "outputs": [
    {
     "data": {
      "text/plain": [
       "[(0.9975319504737854, 'scams'),\n",
       " (0.9968896508216858, 'crash'),\n",
       " (0.996627151966095, 'problem'),\n",
       " (0.9957302212715149, 'wrong'),\n",
       " (0.9955958127975464, 'police'),\n",
       " (0.995547890663147, 'unemployment'),\n",
       " (0.9941920042037964, 'cuts'),\n",
       " (0.9941766262054443, 'oilandgas'),\n",
       " (0.9933328628540039, 'midnight'),\n",
       " (0.9927522540092468, 'worse')]"
      ]
     },
     "execution_count": 88,
     "metadata": {},
     "output_type": "execute_result"
    }
   ],
   "source": [
    "model.get_nearest_neighbors('sad')"
   ]
  },
  {
   "cell_type": "code",
   "execution_count": 89,
   "metadata": {},
   "outputs": [
    {
     "data": {
      "text/plain": [
       "[(0.9991841316223145, 'heroes'),\n",
       " (0.9988672137260437, 'ensure'),\n",
       " (0.9988539814949036, 'free'),\n",
       " (0.9987916946411133, 'amazing'),\n",
       " (0.9987616539001465, 'safe'),\n",
       " (0.997303307056427, 'bonus'),\n",
       " (0.9968224167823792, 'strong'),\n",
       " (0.9967992305755615, 'beautiful'),\n",
       " (0.9964870810508728, 'wisdom'),\n",
       " (0.9964268803596497, 'assure')]"
      ]
     },
     "execution_count": 89,
     "metadata": {},
     "output_type": "execute_result"
    }
   ],
   "source": [
    "model.get_nearest_neighbors('happy')"
   ]
  },
  {
   "cell_type": "code",
   "execution_count": 90,
   "metadata": {},
   "outputs": [
    {
     "data": {
      "text/plain": [
       "[(0.9492374062538147, 'buying'),\n",
       " (0.9093716144561768, 'covid'),\n",
       " (0.8786273002624512, 'coronacrisis'),\n",
       " (0.8765828013420105, 'limits'),\n",
       " (0.8214386105537415, 'companies'),\n",
       " (0.8096031546592712, 'hardest'),\n",
       " (0.7893620133399963, 'left'),\n",
       " (0.7832221388816833, 'price'),\n",
       " (0.769260585308075, 'people'),\n",
       " (0.753709077835083, 'prices')]"
      ]
     },
     "execution_count": 90,
     "metadata": {},
     "output_type": "execute_result"
    }
   ],
   "source": [
    "model.get_nearest_neighbors('coronavirus')"
   ]
  },
  {
   "cell_type": "code",
   "execution_count": null,
   "metadata": {},
   "outputs": [],
   "source": []
  }
 ],
 "metadata": {
  "kernelspec": {
   "display_name": "Python 3 (ipykernel)",
   "language": "python",
   "name": "python3"
  }
 },
 "nbformat": 4,
 "nbformat_minor": 2
}
