{
 "cells": [
  {
   "cell_type": "code",
   "execution_count": 4,
   "metadata": {},
   "outputs": [
    {
     "name": "stdout",
     "output_type": "stream",
     "text": [
      "Requirement already satisfied: pip in /usr/local/python/3.10.13/lib/python3.10/site-packages (24.0)\n"
     ]
    }
   ],
   "source": [
    "# upgrade pip\n",
    "!pip install --upgrade pip"
   ]
  },
  {
   "cell_type": "code",
   "execution_count": 12,
   "metadata": {},
   "outputs": [
    {
     "name": "stdout",
     "output_type": "stream",
     "text": [
      "Collecting fasttext-wheel\n",
      "  Downloading fasttext_wheel-0.9.2-cp310-cp310-manylinux_2_17_x86_64.manylinux2014_x86_64.whl.metadata (16 kB)\n",
      "Requirement already satisfied: pybind11>=2.2 in /usr/local/python/3.10.13/lib/python3.10/site-packages (from fasttext-wheel) (2.12.0)\n",
      "Requirement already satisfied: setuptools>=0.7.0 in /usr/local/python/3.10.13/lib/python3.10/site-packages (from fasttext-wheel) (68.2.2)\n",
      "Requirement already satisfied: numpy in /usr/local/python/3.10.13/lib/python3.10/site-packages (from fasttext-wheel) (1.24.2)\n",
      "Downloading fasttext_wheel-0.9.2-cp310-cp310-manylinux_2_17_x86_64.manylinux2014_x86_64.whl (4.4 MB)\n",
      "\u001b[2K   \u001b[90m━━━━━━━━━━━━━━━━━━━━━━━━━━━━━━━━━━━━━━━━\u001b[0m \u001b[32m4.4/4.4 MB\u001b[0m \u001b[31m11.7 MB/s\u001b[0m eta \u001b[36m0:00:00\u001b[0m00:01\u001b[0m0:01\u001b[0m\n",
      "\u001b[?25hInstalling collected packages: fasttext-wheel\n",
      "Successfully installed fasttext-wheel-0.9.2\n"
     ]
    }
   ],
   "source": [
    "!pip install fasttext-wheel"
   ]
  },
  {
   "cell_type": "code",
   "execution_count": 1,
   "metadata": {},
   "outputs": [],
   "source": [
    "import fasttext"
   ]
  },
  {
   "cell_type": "code",
   "execution_count": 2,
   "metadata": {},
   "outputs": [],
   "source": [
    "import pandas as pd"
   ]
  },
  {
   "cell_type": "code",
   "execution_count": 3,
   "metadata": {},
   "outputs": [],
   "source": [
    "df = pd.read_csv('/workspaces/codespaces-jupyter/NLP/archive/Cleaned_Indian_Food_Dataset.csv')"
   ]
  },
  {
   "cell_type": "code",
   "execution_count": 4,
   "metadata": {},
   "outputs": [
    {
     "data": {
      "text/html": [
       "<div>\n",
       "<style scoped>\n",
       "    .dataframe tbody tr th:only-of-type {\n",
       "        vertical-align: middle;\n",
       "    }\n",
       "\n",
       "    .dataframe tbody tr th {\n",
       "        vertical-align: top;\n",
       "    }\n",
       "\n",
       "    .dataframe thead th {\n",
       "        text-align: right;\n",
       "    }\n",
       "</style>\n",
       "<table border=\"1\" class=\"dataframe\">\n",
       "  <thead>\n",
       "    <tr style=\"text-align: right;\">\n",
       "      <th></th>\n",
       "      <th>TranslatedRecipeName</th>\n",
       "      <th>TranslatedIngredients</th>\n",
       "      <th>TotalTimeInMins</th>\n",
       "      <th>Cuisine</th>\n",
       "      <th>TranslatedInstructions</th>\n",
       "      <th>URL</th>\n",
       "      <th>Cleaned-Ingredients</th>\n",
       "      <th>image-url</th>\n",
       "      <th>Ingredient-count</th>\n",
       "    </tr>\n",
       "  </thead>\n",
       "  <tbody>\n",
       "    <tr>\n",
       "      <th>0</th>\n",
       "      <td>Masala Karela Recipe</td>\n",
       "      <td>1 tablespoon Red Chilli powder,3 tablespoon Gr...</td>\n",
       "      <td>45</td>\n",
       "      <td>Indian</td>\n",
       "      <td>To begin making the Masala Karela Recipe,de-se...</td>\n",
       "      <td>https://www.archanaskitchen.com/masala-karela-...</td>\n",
       "      <td>salt,amchur (dry mango powder),karela (bitter ...</td>\n",
       "      <td>https://www.archanaskitchen.com/images/archana...</td>\n",
       "      <td>10</td>\n",
       "    </tr>\n",
       "    <tr>\n",
       "      <th>1</th>\n",
       "      <td>Spicy Tomato Rice (Recipe)</td>\n",
       "      <td>2 teaspoon cashew - or peanuts, 1/2 Teaspoon ...</td>\n",
       "      <td>15</td>\n",
       "      <td>South Indian Recipes</td>\n",
       "      <td>To make tomato puliogere, first cut the tomato...</td>\n",
       "      <td>https://www.archanaskitchen.com/spicy-tomato-r...</td>\n",
       "      <td>tomato,salt,chickpea lentils,green chilli,rice...</td>\n",
       "      <td>https://www.archanaskitchen.com/images/archana...</td>\n",
       "      <td>12</td>\n",
       "    </tr>\n",
       "    <tr>\n",
       "      <th>2</th>\n",
       "      <td>Ragi Semiya Upma Recipe - Ragi Millet Vermicel...</td>\n",
       "      <td>1 Onion - sliced,1 teaspoon White Urad Dal (Sp...</td>\n",
       "      <td>50</td>\n",
       "      <td>South Indian Recipes</td>\n",
       "      <td>To begin making the Ragi Vermicelli Recipe, fi...</td>\n",
       "      <td>https://www.archanaskitchen.com/ragi-vermicell...</td>\n",
       "      <td>salt,rice vermicelli noodles (thin),asafoetida...</td>\n",
       "      <td>https://www.archanaskitchen.com/images/archana...</td>\n",
       "      <td>12</td>\n",
       "    </tr>\n",
       "    <tr>\n",
       "      <th>3</th>\n",
       "      <td>Gongura Chicken Curry Recipe - Andhra Style Go...</td>\n",
       "      <td>1/2 teaspoon Turmeric powder (Haldi),1 tablesp...</td>\n",
       "      <td>45</td>\n",
       "      <td>Andhra</td>\n",
       "      <td>To begin making Gongura Chicken Curry Recipe f...</td>\n",
       "      <td>https://www.archanaskitchen.com/gongura-chicke...</td>\n",
       "      <td>tomato,salt,ginger,sorrel leaves (gongura),fen...</td>\n",
       "      <td>https://www.archanaskitchen.com/images/archana...</td>\n",
       "      <td>15</td>\n",
       "    </tr>\n",
       "    <tr>\n",
       "      <th>4</th>\n",
       "      <td>Andhra Style Alam Pachadi Recipe - Adrak Chutn...</td>\n",
       "      <td>oil - as per use, 1 tablespoon coriander seed...</td>\n",
       "      <td>30</td>\n",
       "      <td>Andhra</td>\n",
       "      <td>To make Andhra Style Alam Pachadi, first heat ...</td>\n",
       "      <td>https://www.archanaskitchen.com/andhra-style-a...</td>\n",
       "      <td>tomato,salt,ginger,red chillies,curry,asafoeti...</td>\n",
       "      <td>https://www.archanaskitchen.com/images/archana...</td>\n",
       "      <td>12</td>\n",
       "    </tr>\n",
       "  </tbody>\n",
       "</table>\n",
       "</div>"
      ],
      "text/plain": [
       "                                TranslatedRecipeName  \\\n",
       "0                               Masala Karela Recipe   \n",
       "1                         Spicy Tomato Rice (Recipe)   \n",
       "2  Ragi Semiya Upma Recipe - Ragi Millet Vermicel...   \n",
       "3  Gongura Chicken Curry Recipe - Andhra Style Go...   \n",
       "4  Andhra Style Alam Pachadi Recipe - Adrak Chutn...   \n",
       "\n",
       "                               TranslatedIngredients  TotalTimeInMins  \\\n",
       "0  1 tablespoon Red Chilli powder,3 tablespoon Gr...               45   \n",
       "1   2 teaspoon cashew - or peanuts, 1/2 Teaspoon ...               15   \n",
       "2  1 Onion - sliced,1 teaspoon White Urad Dal (Sp...               50   \n",
       "3  1/2 teaspoon Turmeric powder (Haldi),1 tablesp...               45   \n",
       "4   oil - as per use, 1 tablespoon coriander seed...               30   \n",
       "\n",
       "                Cuisine                             TranslatedInstructions  \\\n",
       "0                Indian  To begin making the Masala Karela Recipe,de-se...   \n",
       "1  South Indian Recipes  To make tomato puliogere, first cut the tomato...   \n",
       "2  South Indian Recipes  To begin making the Ragi Vermicelli Recipe, fi...   \n",
       "3                Andhra  To begin making Gongura Chicken Curry Recipe f...   \n",
       "4                Andhra  To make Andhra Style Alam Pachadi, first heat ...   \n",
       "\n",
       "                                                 URL  \\\n",
       "0  https://www.archanaskitchen.com/masala-karela-...   \n",
       "1  https://www.archanaskitchen.com/spicy-tomato-r...   \n",
       "2  https://www.archanaskitchen.com/ragi-vermicell...   \n",
       "3  https://www.archanaskitchen.com/gongura-chicke...   \n",
       "4  https://www.archanaskitchen.com/andhra-style-a...   \n",
       "\n",
       "                                 Cleaned-Ingredients  \\\n",
       "0  salt,amchur (dry mango powder),karela (bitter ...   \n",
       "1  tomato,salt,chickpea lentils,green chilli,rice...   \n",
       "2  salt,rice vermicelli noodles (thin),asafoetida...   \n",
       "3  tomato,salt,ginger,sorrel leaves (gongura),fen...   \n",
       "4  tomato,salt,ginger,red chillies,curry,asafoeti...   \n",
       "\n",
       "                                           image-url  Ingredient-count  \n",
       "0  https://www.archanaskitchen.com/images/archana...                10  \n",
       "1  https://www.archanaskitchen.com/images/archana...                12  \n",
       "2  https://www.archanaskitchen.com/images/archana...                12  \n",
       "3  https://www.archanaskitchen.com/images/archana...                15  \n",
       "4  https://www.archanaskitchen.com/images/archana...                12  "
      ]
     },
     "execution_count": 4,
     "metadata": {},
     "output_type": "execute_result"
    }
   ],
   "source": [
    "df.head()"
   ]
  },
  {
   "cell_type": "code",
   "execution_count": 5,
   "metadata": {},
   "outputs": [
    {
     "data": {
      "text/plain": [
       "'To begin making the Masala Karela Recipe,de-seed the karela and slice.\\nDo not remove the skin as the skin has all the nutrients.\\nAdd the karela to the pressure cooker with 3 tablespoon of water, salt and turmeric powder and pressure cook for three whistles.\\nRelease the pressure immediately and open the lids.\\nKeep aside.Heat oil in a heavy bottomed pan or a kadhai.\\nAdd cumin seeds and let it sizzle.Once the cumin seeds have sizzled, add onions and saute them till it turns golden brown in color.Add the karela, red chilli powder, amchur powder, coriander powder and besan.\\nStir to combine the masalas into the karela.Drizzle a little extra oil on the top and mix again.\\nCover the pan and simmer Masala Karela stirring occasionally until everything comes together well.\\nTurn off the heat.Transfer Masala Karela into a serving bowl and serve.Serve Masala Karela along with Panchmel Dal and Phulka for a weekday meal with your family.\\n'"
      ]
     },
     "execution_count": 5,
     "metadata": {},
     "output_type": "execute_result"
    }
   ],
   "source": [
    "df.TranslatedInstructions[0]"
   ]
  },
  {
   "cell_type": "code",
   "execution_count": 10,
   "metadata": {},
   "outputs": [],
   "source": [
    "import re\n",
    "\n",
    "def preprocess(text):\n",
    "    text = re.sub(r'[^\\w\\s]','',text) # remove punctuation marks\n",
    "    text = re.sub(r'[ \\n]+', ' ', text) # remove extra spaces and newline characters\n",
    "    return text.strip().lower()"
   ]
  },
  {
   "cell_type": "code",
   "execution_count": 11,
   "metadata": {},
   "outputs": [
    {
     "data": {
      "text/plain": [
       "'to begin making the masala karela recipedeseed the karela and slice do not remove the skin as the skin has all the nutrients add the karela to the pressure cooker with 3 tablespoon of water salt and turmeric powder and pressure cook for three whistles release the pressure immediately and open the lids keep asideheat oil in a heavy bottomed pan or a kadhai add cumin seeds and let it sizzleonce the cumin seeds have sizzled add onions and saute them till it turns golden brown in coloradd the karela red chilli powder amchur powder coriander powder and besan stir to combine the masalas into the kareladrizzle a little extra oil on the top and mix again cover the pan and simmer masala karela stirring occasionally until everything comes together well turn off the heattransfer masala karela into a serving bowl and serveserve masala karela along with panchmel dal and phulka for a weekday meal with your family'"
      ]
     },
     "execution_count": 11,
     "metadata": {},
     "output_type": "execute_result"
    }
   ],
   "source": [
    "preprocess(df.TranslatedInstructions[0])"
   ]
  },
  {
   "cell_type": "code",
   "execution_count": 12,
   "metadata": {},
   "outputs": [
    {
     "data": {
      "text/plain": [
       "5938"
      ]
     },
     "execution_count": 12,
     "metadata": {},
     "output_type": "execute_result"
    }
   ],
   "source": [
    "len(df)"
   ]
  },
  {
   "cell_type": "code",
   "execution_count": 14,
   "metadata": {},
   "outputs": [],
   "source": [
    "df.TranslatedInstructions = df.TranslatedInstructions.map(preprocess)"
   ]
  },
  {
   "cell_type": "code",
   "execution_count": 15,
   "metadata": {},
   "outputs": [
    {
     "data": {
      "text/plain": [
       "'to begin making the masala karela recipedeseed the karela and slice do not remove the skin as the skin has all the nutrients add the karela to the pressure cooker with 3 tablespoon of water salt and turmeric powder and pressure cook for three whistles release the pressure immediately and open the lids keep asideheat oil in a heavy bottomed pan or a kadhai add cumin seeds and let it sizzleonce the cumin seeds have sizzled add onions and saute them till it turns golden brown in coloradd the karela red chilli powder amchur powder coriander powder and besan stir to combine the masalas into the kareladrizzle a little extra oil on the top and mix again cover the pan and simmer masala karela stirring occasionally until everything comes together well turn off the heattransfer masala karela into a serving bowl and serveserve masala karela along with panchmel dal and phulka for a weekday meal with your family'"
      ]
     },
     "execution_count": 15,
     "metadata": {},
     "output_type": "execute_result"
    }
   ],
   "source": [
    "df.TranslatedInstructions[0]"
   ]
  },
  {
   "cell_type": "code",
   "execution_count": 28,
   "metadata": {},
   "outputs": [],
   "source": [
    "df.sample(1000).to_csv('food_recepies.txt', columns=['TranslatedInstructions'], header=None, index=False)"
   ]
  },
  {
   "cell_type": "code",
   "execution_count": 29,
   "metadata": {},
   "outputs": [
    {
     "name": "stderr",
     "output_type": "stream",
     "text": [
      "Read 0M words\n",
      "Number of words:  2247\n",
      "Number of labels: 0\n",
      "Progress: 100.0% words/sec/thread:  165835 lr:  0.000000 avg.loss:  2.466791 ETA:   0h 0m 0s\n"
     ]
    }
   ],
   "source": [
    "model = fasttext.train_unsupervised('food_recepies.txt')"
   ]
  },
  {
   "cell_type": "code",
   "execution_count": 30,
   "metadata": {},
   "outputs": [
    {
     "data": {
      "text/plain": [
       "[(0.9979007244110107, 'chutney'),\n",
       " (0.9524586200714111, 'dhaniya'),\n",
       " (0.9426221251487732, 'indian'),\n",
       " (0.9378120303153992, 'pudina'),\n",
       " (0.9301736950874329, 'fritters'),\n",
       " (0.9286202788352966, 'fritter'),\n",
       " (0.9184611439704895, 'milagai'),\n",
       " (0.9159083962440491, 'south'),\n",
       " (0.9158728122711182, 'adrak'),\n",
       " (0.9155543446540833, 'chai')]"
      ]
     },
     "execution_count": 30,
     "metadata": {},
     "output_type": "execute_result"
    }
   ],
   "source": [
    "model.get_nearest_neighbors('chutneys')"
   ]
  },
  {
   "cell_type": "code",
   "execution_count": 31,
   "metadata": {},
   "outputs": [
    {
     "data": {
      "text/plain": [
       "[(0.9824575185775757, 'dhaniya'),\n",
       " (0.9571167826652527, 'panchmel'),\n",
       " (0.9554961323738098, 'papad'),\n",
       " (0.9546105861663818, 'dhaba'),\n",
       " (0.9524601101875305, 'gujarati'),\n",
       " (0.9507927894592285, 'akki'),\n",
       " (0.9462435841560364, 'peri'),\n",
       " (0.9455509185791016, 'raita'),\n",
       " (0.9445742964744568, 'lehsun'),\n",
       " (0.9445579648017883, 'kachumber')]"
      ]
     },
     "execution_count": 31,
     "metadata": {},
     "output_type": "execute_result"
    }
   ],
   "source": [
    "model.get_nearest_neighbors('pudina')"
   ]
  },
  {
   "cell_type": "code",
   "execution_count": 32,
   "metadata": {},
   "outputs": [
    {
     "data": {
      "text/plain": [
       "[(0.8979130387306213, 'dosas'),\n",
       " (0.8703966736793518, 'vada'),\n",
       " (0.8485034704208374, 'millets'),\n",
       " (0.8472070693969727, 'similar'),\n",
       " (0.8405378460884094, 'pakoras'),\n",
       " (0.8374580144882202, 'millet'),\n",
       " (0.8372448682785034, 'kuzhi'),\n",
       " (0.8287347555160522, 'tava'),\n",
       " (0.8190581798553467, 'panini'),\n",
       " (0.8187299966812134, 'vadas')]"
      ]
     },
     "execution_count": 32,
     "metadata": {},
     "output_type": "execute_result"
    }
   ],
   "source": [
    "model.get_nearest_neighbors('dosa')"
   ]
  },
  {
   "cell_type": "code",
   "execution_count": null,
   "metadata": {},
   "outputs": [],
   "source": []
  }
 ],
 "metadata": {
  "kernelspec": {
   "display_name": "Python 3",
   "language": "python",
   "name": "python3"
  },
  "language_info": {
   "codemirror_mode": {
    "name": "ipython",
    "version": 3
   },
   "file_extension": ".py",
   "mimetype": "text/x-python",
   "name": "python",
   "nbconvert_exporter": "python",
   "pygments_lexer": "ipython3",
   "version": "3.10.13"
  }
 },
 "nbformat": 4,
 "nbformat_minor": 2
}
